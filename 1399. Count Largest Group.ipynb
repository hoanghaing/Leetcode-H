{
 "cells": [
  {
   "cell_type": "code",
   "execution_count": 15,
   "metadata": {},
   "outputs": [
    {
     "data": {
      "text/plain": [
       "4"
      ]
     },
     "execution_count": 15,
     "metadata": {},
     "output_type": "execute_result"
    }
   ],
   "source": [
    "#Solved\n",
    "def sumNumber(num):\n",
    "    i = 0\n",
    "    while(num > 0):\n",
    "        i += num % 10\n",
    "        num = num // 10\n",
    "    return i\n",
    "\n",
    "def countLargestGroup(n):\n",
    "    \"\"\"\n",
    "    :type n: int\n",
    "    :rtype: int\n",
    "    \"\"\"\n",
    "    sumList = []\n",
    "    hashTable = {}\n",
    "    for num in range(1,n+1):\n",
    "        sumList.append(sumNumber(num))\n",
    "    for sumNum in sumList:\n",
    "        if sumNum in hashTable:\n",
    "            hashTable[sumNum] += 1\n",
    "        else:\n",
    "            hashTable[sumNum] = 1\n",
    "    max_value = max(hashTable.values())\n",
    "    result = list(hashTable.values()).count(max_value)\n",
    "    return result\n",
    "\n",
    "countLargestGroup(13)\n",
    "\n",
    "# 13\n",
    "# 2\n",
    "# 15\n",
    "# 24"
   ]
  },
  {
   "cell_type": "code",
   "execution_count": null,
   "metadata": {},
   "outputs": [],
   "source": [
    "class Solution(object):\n",
    "    def sumNumber(self,num):\n",
    "        i = 0\n",
    "        while(num > 0):\n",
    "            i += num % 10\n",
    "            num = num // 10\n",
    "        return i    \n",
    "    def countLargestGroup(self, n):\n",
    "        \"\"\"\n",
    "        :type n: int\n",
    "        :rtype: int\n",
    "        \"\"\"\n",
    "        sumList = []\n",
    "        hashTable = {}\n",
    "        for num in range(1,n+1):\n",
    "            sumList.append(self.sumNumber(num))\n",
    "        for sumNum in sumList:\n",
    "            if sumNum in hashTable:\n",
    "                hashTable[sumNum] += 1\n",
    "            else:\n",
    "                hashTable[sumNum] = 1\n",
    "        max_value = max(hashTable.values())\n",
    "        result = list(hashTable.values()).count(max_value)\n",
    "        return result"
   ]
  }
 ],
 "metadata": {
  "kernelspec": {
   "display_name": "Python 3",
   "language": "python",
   "name": "python3"
  },
  "language_info": {
   "codemirror_mode": {
    "name": "ipython",
    "version": 3
   },
   "file_extension": ".py",
   "mimetype": "text/x-python",
   "name": "python",
   "nbconvert_exporter": "python",
   "pygments_lexer": "ipython3",
   "version": "3.6.9"
  }
 },
 "nbformat": 4,
 "nbformat_minor": 2
}
