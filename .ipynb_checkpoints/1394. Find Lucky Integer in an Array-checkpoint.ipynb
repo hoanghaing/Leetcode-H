{
 "cells": [
  {
   "cell_type": "code",
   "execution_count": 8,
   "metadata": {},
   "outputs": [
    {
     "data": {
      "text/plain": [
       "7"
      ]
     },
     "execution_count": 8,
     "metadata": {},
     "output_type": "execute_result"
    }
   ],
   "source": [
    "#solve\n",
    "def findLucky(arr):\n",
    "    hashTable = {}\n",
    "    check = False\n",
    "    result = -1\n",
    "    for num in arr:\n",
    "        if num in hashTable:\n",
    "            hashTable[num] += 1\n",
    "        else:\n",
    "            hashTable[num] = 1\n",
    "    for key, val in hashTable.items():\n",
    "        if key == val and val >= result:\n",
    "            result = val\n",
    "    return result\n",
    "# arr = [2,2,3,4]\n",
    "# arr = [1,2,2,3,3,3]\n",
    "# arr = [2,2,2,3,3]\n",
    "# arr = [5]\n",
    "arr = [7,7,7,7,7,7,7]\n",
    "findLucky(arr)"
   ]
  },
  {
   "cell_type": "code",
   "execution_count": null,
   "metadata": {},
   "outputs": [],
   "source": [
    "class Solution(object):\n",
    "    def findLucky(self, arr):\n",
    "        \"\"\"\n",
    "        :type arr: List[int]\n",
    "        :rtype: int\n",
    "        \"\"\"\n",
    "\n",
    "        hashTable = {}\n",
    "        check = False\n",
    "        result = -1\n",
    "        for num in arr:\n",
    "            if num in hashTable:\n",
    "                hashTable[num] += 1\n",
    "            else:\n",
    "                hashTable[num] = 1\n",
    "        for key, val in hashTable.items():\n",
    "            if key == val and val >= result:\n",
    "                result = val\n",
    "        return result\n",
    "\"\"\"\n",
    "[2,2,3,4]\n",
    "[1,2,2,3,3,3]\n",
    "[2,2,2,3,3]\n",
    "[5]\n",
    "[7,7,7,7,7,7,7]\n",
    "\"\"\""
   ]
  }
 ],
 "metadata": {
  "kernelspec": {
   "display_name": "Python 3",
   "language": "python",
   "name": "python3"
  },
  "language_info": {
   "codemirror_mode": {
    "name": "ipython",
    "version": 3
   },
   "file_extension": ".py",
   "mimetype": "text/x-python",
   "name": "python",
   "nbconvert_exporter": "python",
   "pygments_lexer": "ipython3",
   "version": "3.6.9"
  }
 },
 "nbformat": 4,
 "nbformat_minor": 2
}
