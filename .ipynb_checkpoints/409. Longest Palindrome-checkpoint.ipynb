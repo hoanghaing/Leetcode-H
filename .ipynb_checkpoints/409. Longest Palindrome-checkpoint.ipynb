{
 "cells": [
  {
   "cell_type": "code",
   "execution_count": 14,
   "metadata": {},
   "outputs": [
    {
     "data": {
      "text/plain": [
       "{'c': 25,\n",
       " 'i': 53,\n",
       " 'v': 22,\n",
       " 'l': 41,\n",
       " 'w': 23,\n",
       " 'a': 87,\n",
       " 'r': 67,\n",
       " 't': 106,\n",
       " 'e': 142,\n",
       " 's': 40,\n",
       " 'n': 61,\n",
       " 'g': 23,\n",
       " 'h': 74,\n",
       " 'p': 16,\n",
       " 'o': 78,\n",
       " 'y': 8,\n",
       " 'd': 52,\n",
       " 'u': 17,\n",
       " 'W': 2,\n",
       " 'q': 1,\n",
       " 'm': 13,\n",
       " 'b': 11,\n",
       " 'f': 26,\n",
       " 'z': 1,\n",
       " 'I': 3,\n",
       " 'B': 1,\n",
       " 'T': 2,\n",
       " 'k': 3,\n",
       " 'G': 1}"
      ]
     },
     "execution_count": 14,
     "metadata": {},
     "output_type": "execute_result"
    }
   ],
   "source": [
    "def longestPalindrome(s):\n",
    "        hashTB = {}\n",
    "        for c in s:\n",
    "            if c in hashTB:\n",
    "                hashTB[c] += 1\n",
    "            else:\n",
    "                hashTB[c] = 1\n",
    "        even = 0\n",
    "        odd = 0\n",
    "        for value in hashTB.values():\n",
    "            if value == len(s):\n",
    "                return len(s)\n",
    "            if value >= 2 and value % 2 == 0:\n",
    "                even += value\n",
    "            if value >=3 and value % 2 == 1:\n",
    "                odd += (value-1)\n",
    "        return min(even+odd+1,len(s))\n",
    "longestPalindrome(\"civilwartestingwhetherthatnaptionoranynartionsoconceivedandsodedicatedcanlongendureWeareqmetonagreatbattlefiemldoftzhatwarWehavecometodedicpateaportionofthatfieldasafinalrestingplaceforthosewhoheregavetheirlivesthatthatnationmightliveItisaltogetherfangandproperthatweshoulddothisButinalargersensewecannotdedicatewecannotconsecratewecannothallowthisgroundThebravelmenlivinganddeadwhostruggledherehaveconsecrateditfaraboveourpoorponwertoaddordetractTgheworldadswfilllittlenotlenorlongrememberwhatwesayherebutitcanneverforgetwhattheydidhereItisforusthelivingrathertobededicatedheretotheulnfinishedworkwhichtheywhofoughtherehavethusfarsonoblyadvancedItisratherforustobeherededicatedtothegreattdafskremainingbeforeusthatfromthesehonoreddeadwetakeincreaseddevotiontothatcauseforwhichtheygavethelastpfullmeasureofdevotionthatweherehighlyresolvethatthesedeadshallnothavediedinvainthatthisnationunsderGodshallhaveanewbirthoffreedomandthatgovernmentofthepeoplebythepeopleforthepeopleshallnotperishfromtheearth\")"
   ]
  },
  {
   "cell_type": "code",
   "execution_count": 10,
   "metadata": {},
   "outputs": [
    {
     "ename": "NameError",
     "evalue": "name 'hashTB' is not defined",
     "output_type": "error",
     "traceback": [
      "\u001b[0;31m---------------------------------------------------------------------------\u001b[0m",
      "\u001b[0;31mNameError\u001b[0m                                 Traceback (most recent call last)",
      "\u001b[0;32m<ipython-input-10-b84e76007194>\u001b[0m in \u001b[0;36m<module>\u001b[0;34m\u001b[0m\n\u001b[0;32m----> 1\u001b[0;31m \u001b[0mhashTB\u001b[0m\u001b[0;34m\u001b[0m\u001b[0;34m\u001b[0m\u001b[0m\n\u001b[0m",
      "\u001b[0;31mNameError\u001b[0m: name 'hashTB' is not defined"
     ]
    }
   ],
   "source": [
    "\"abccccdd\"\n",
    "\"bb\"\n",
    "\"ccc\"\n",
    "\"bananas\"\n",
    "\"tattarrattat\"\n",
    "\"civilwartestingwhetherthatnaptionoranynartionsoconceivedandsodedicatedcanlongendureWeareqmetonagreatbattlefiemldoftzhatwarWehavecometodedicpateaportionofthatfieldasafinalrestingplaceforthosewhoheregavetheirlivesthatthatnationmightliveItisaltogetherfangandproperthatweshoulddothisButinalargersensewecannotdedicatewecannotconsecratewecannothallowthisgroundThebravelmenlivinganddeadwhostruggledherehaveconsecrateditfaraboveourpoorponwertoaddordetractTgheworldadswfilllittlenotlenorlongrememberwhatwesayherebutitcanneverforgetwhattheydidhereItisforusthelivingrathertobededicatedheretotheulnfinishedworkwhichtheywhofoughtherehavethusfarsonoblyadvancedItisratherforustobeherededicatedtothegreattdafskremainingbeforeusthatfromthesehonoreddeadwetakeincreaseddevotiontothatcauseforwhichtheygavethelastpfullmeasureofdevotionthatweherehighlyresolvethatthesedeadshallnothavediedinvainthatthisnationunsderGodshallhaveanewbirthoffreedomandthatgovernmentofthepeoplebythepeopleforthepeopleshallnotperishfromtheearth\""
   ]
  }
 ],
 "metadata": {
  "kernelspec": {
   "display_name": "Python 3",
   "language": "python",
   "name": "python3"
  },
  "language_info": {
   "codemirror_mode": {
    "name": "ipython",
    "version": 3
   },
   "file_extension": ".py",
   "mimetype": "text/x-python",
   "name": "python",
   "nbconvert_exporter": "python",
   "pygments_lexer": "ipython3",
   "version": "3.6.9"
  }
 },
 "nbformat": 4,
 "nbformat_minor": 2
}
