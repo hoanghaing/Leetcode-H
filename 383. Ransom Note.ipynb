{
 "cells": [
  {
   "cell_type": "code",
   "execution_count": 10,
   "metadata": {},
   "outputs": [
    {
     "data": {
      "text/plain": [
       "True"
      ]
     },
     "execution_count": 10,
     "metadata": {},
     "output_type": "execute_result"
    }
   ],
   "source": [
    "test = \"fffbfg\"\n",
    "x = \"effjfggbffjdgbjjhhdegh\"\n",
    "def canConstruct(ransomNote, magazine):\n",
    "    if len(ransomNote) > len(magazine):\n",
    "        return False\n",
    "    d = {}\n",
    "    for c in magazine:\n",
    "        if c in d:\n",
    "            d[c] += 1\n",
    "        else:\n",
    "            d[c] = 1\n",
    "    for c in ransomNote:\n",
    "        if d[c] == 0:\n",
    "            return False\n",
    "        if c not in d:\n",
    "            return False\n",
    "        d[c] -= 1\n",
    "    return True\n",
    "canConstruct(test,x)"
   ]
  }
 ],
 "metadata": {
  "kernelspec": {
   "display_name": "Python 3",
   "language": "python",
   "name": "python3"
  },
  "language_info": {
   "codemirror_mode": {
    "name": "ipython",
    "version": 3
   },
   "file_extension": ".py",
   "mimetype": "text/x-python",
   "name": "python",
   "nbconvert_exporter": "python",
   "pygments_lexer": "ipython3",
   "version": "3.6.9"
  }
 },
 "nbformat": 4,
 "nbformat_minor": 2
}
