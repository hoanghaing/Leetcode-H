{
 "cells": [
  {
   "cell_type": "code",
   "execution_count": 12,
   "metadata": {},
   "outputs": [
    {
     "data": {
      "text/plain": [
       "'c2o0v1i9d'"
      ]
     },
     "execution_count": 12,
     "metadata": {},
     "output_type": "execute_result"
    }
   ],
   "source": [
    "def reformat(s):\n",
    "    l = len(s)\n",
    "    if s.isdigit() or s.isalpha():\n",
    "        return \"\"\n",
    "    digit = \"\"\n",
    "    result = \"\"\n",
    "    for c in s:\n",
    "        if c.isdigit():\n",
    "            digit += c\n",
    "            s = s.replace(c,'',1)\n",
    "    if abs(len(digit) - len(s)) > 1:\n",
    "        return \"\"\n",
    "    for i in range(l):\n",
    "        if i % 2 == 0:\n",
    "            print(i)\n",
    "            result += s[i // 2]\n",
    "        else:\n",
    "            result += digit[(i-1) // 2]\n",
    "    return result\n",
    "# # s = \"a0b1c2\"    \n",
    "# s = \"leetcode\"    \n",
    "s = \"covid2019\"    \n",
    "# s = \"covid2019\"\n",
    "# s = \"ab123\"\n",
    "reformat(s)"
   ]
  },
  {
   "cell_type": "code",
   "execution_count": null,
   "metadata": {},
   "outputs": [],
   "source": [
    "#solved\n",
    "class Solution(object):\n",
    "    def reformat(self, s):\n",
    "        \"\"\"\n",
    "        :type s: str\n",
    "        :rtype: str\n",
    "        \"\"\"\n",
    "        if len(s) == 1:\n",
    "            return s\n",
    "        elif s.isdigit() or s.isalpha():\n",
    "            return \"\"\n",
    "        digit = \"\"\n",
    "        result = \"\"\n",
    "        for c in s:\n",
    "            if c.isdigit():\n",
    "                digit += c\n",
    "                s = s.replace(c,'',1)\n",
    "        if abs(len(digit) - len(s)) > 1:\n",
    "            return \"\"\n",
    "        \n",
    "        #Cong 2 chuoi lan luot\n",
    "        if len(digit) < len(s):\n",
    "            for i in range(len(digit)):\n",
    "                result += s[i] + digit[i]\n",
    "            result += s[-1]\n",
    "        elif len(digit) == len(s):\n",
    "            for i in range(len(digit)):\n",
    "                result += s[i] + digit[i]\n",
    "        else:\n",
    "            for i in range(len(s)):\n",
    "                result += digit[i] + s[i]\n",
    "            result += digit[-1]                       \n",
    "        return result\n",
    "# test\n",
    "# \"a0b1c2\"\n",
    "# \"leetcode\"\n",
    "# \"1229857369\"\n",
    "# \"covid2019\"\n",
    "# \"ab123\"\n",
    "# \"j\"\n",
    "# \"abc123\""
   ]
  }
 ],
 "metadata": {
  "kernelspec": {
   "display_name": "Python 3",
   "language": "python",
   "name": "python3"
  },
  "language_info": {
   "codemirror_mode": {
    "name": "ipython",
    "version": 3
   },
   "file_extension": ".py",
   "mimetype": "text/x-python",
   "name": "python",
   "nbconvert_exporter": "python",
   "pygments_lexer": "ipython3",
   "version": "3.6.9"
  }
 },
 "nbformat": 4,
 "nbformat_minor": 2
}
