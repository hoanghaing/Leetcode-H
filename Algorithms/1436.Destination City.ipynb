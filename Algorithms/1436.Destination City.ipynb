{
 "cells": [
  {
   "cell_type": "code",
   "execution_count": 9,
   "metadata": {},
   "outputs": [
    {
     "data": {
      "text/plain": [
       "'Sao Paulo'"
      ]
     },
     "execution_count": 9,
     "metadata": {},
     "output_type": "execute_result"
    }
   ],
   "source": [
    "#Accepted\n",
    "def destCity(paths):\n",
    "    if len(paths) == 1:\n",
    "        return paths[0][1]\n",
    "    city = {}\n",
    "    for Scity in paths:\n",
    "        city[Scity[0]] = 1\n",
    "    for Ecity in paths:\n",
    "        if Ecity[1] in city:\n",
    "            city[Ecity[1]] -= 1\n",
    "        else:\n",
    "            return Ecity[1]\n",
    "#     return city\n",
    "\n",
    "paths = [[\"B\",\"C\"],[\"D\",\"B\"],[\"C\",\"A\"]]\n",
    "paths = [[\"A\",\"Z\"]]\n",
    "paths = [[\"London\",\"New York\"],[\"New York\",\"Lima\"],[\"Lima\",\"Sao Paulo\"]]\n",
    "destCity(paths)"
   ]
  }
 ],
 "metadata": {
  "kernelspec": {
   "display_name": "Python 3",
   "language": "python",
   "name": "python3"
  },
  "language_info": {
   "codemirror_mode": {
    "name": "ipython",
    "version": 3
   },
   "file_extension": ".py",
   "mimetype": "text/x-python",
   "name": "python",
   "nbconvert_exporter": "python",
   "pygments_lexer": "ipython3",
   "version": "3.6.9"
  }
 },
 "nbformat": 4,
 "nbformat_minor": 2
}
