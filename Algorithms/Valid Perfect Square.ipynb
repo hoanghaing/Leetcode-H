{
 "cells": [
  {
   "cell_type": "code",
   "execution_count": 16,
   "metadata": {},
   "outputs": [
    {
     "name": "stdout",
     "output_type": "stream",
     "text": [
      "8\n",
      "4\n"
     ]
    },
    {
     "data": {
      "text/plain": [
       "True"
      ]
     },
     "execution_count": 16,
     "metadata": {},
     "output_type": "execute_result"
    }
   ],
   "source": [
    "def isValid(left,right,num):\n",
    "    mid = (left + right) // 2\n",
    "    print(mid)\n",
    "    if mid * mid > num and (mid - 1) * (mid-1) < num:\n",
    "        return False\n",
    "    elif mid * mid == num:\n",
    "        return True\n",
    "    elif mid * mid > num:\n",
    "        return isValid(left,mid,num)\n",
    "    else:\n",
    "        left = mid\n",
    "        return isValid(mid,right,num)\n",
    "        \n",
    "        \n",
    "def isPerfectSquare(num):\n",
    "    if num == 1:\n",
    "        return True\n",
    "    if num == 2 or num == 3:\n",
    "        return False\n",
    "    return (isValid(1,num,num))\n",
    "#     return True\n",
    "\n",
    "isPerfectSquare(16)\n",
    "# isPerfectSquare(2147483647)"
   ]
  }
 ],
 "metadata": {
  "kernelspec": {
   "display_name": "Python 3",
   "language": "python",
   "name": "python3"
  },
  "language_info": {
   "codemirror_mode": {
    "name": "ipython",
    "version": 3
   },
   "file_extension": ".py",
   "mimetype": "text/x-python",
   "name": "python",
   "nbconvert_exporter": "python",
   "pygments_lexer": "ipython3",
   "version": "3.6.9"
  }
 },
 "nbformat": 4,
 "nbformat_minor": 2
}
