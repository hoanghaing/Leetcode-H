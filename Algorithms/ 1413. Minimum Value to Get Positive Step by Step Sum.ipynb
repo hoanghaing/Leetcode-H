{
 "cells": [
  {
   "cell_type": "code",
   "execution_count": 8,
   "metadata": {},
   "outputs": [
    {
     "data": {
      "text/plain": [
       "1"
      ]
     },
     "execution_count": 8,
     "metadata": {},
     "output_type": "execute_result"
    }
   ],
   "source": [
    "# SOLVE\n",
    "def minStartValue(nums):\n",
    "    \"\"\"\n",
    "    :type nums: List[int]\n",
    "    :rtype: int\n",
    "    \"\"\"\n",
    "    result = [0] * len(nums)\n",
    "    startValue = max(nums)\n",
    "    result[0] = startValue + nums[0]\n",
    "    for i in range(1,len(nums)):\n",
    "        result[i] = result[i-1] + nums[i]\n",
    "    pivot = min(result)\n",
    "    if pivot == 1:\n",
    "        return max(startValue,1)\n",
    "    if pivot > 1:\n",
    "        return max((startValue - (pivot - 1)),1)\n",
    "    if pivot < 1:\n",
    "        return max((startValue + (1 - pivot)),1)\n",
    "#     return result\n",
    "# nums = [-3,2,-3,4,2]\n",
    "# nums = [1,-2,-3]\n",
    "nums = [1,2]\n",
    "minStartValue(nums)\n",
    "\"\"\"\n",
    "Test\n",
    "[-3,2,-3,4,2]\n",
    "[1,2]\n",
    "[1,-2,-3]\n",
    "\"\"\""
   ]
  }
 ],
 "metadata": {
  "kernelspec": {
   "display_name": "Python 3",
   "language": "python",
   "name": "python3"
  },
  "language_info": {
   "codemirror_mode": {
    "name": "ipython",
    "version": 3
   },
   "file_extension": ".py",
   "mimetype": "text/x-python",
   "name": "python",
   "nbconvert_exporter": "python",
   "pygments_lexer": "ipython3",
   "version": "3.6.9"
  }
 },
 "nbformat": 4,
 "nbformat_minor": 2
}
