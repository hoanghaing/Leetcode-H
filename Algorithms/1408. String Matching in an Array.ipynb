{
 "cells": [
  {
   "cell_type": "code",
   "execution_count": 17,
   "metadata": {},
   "outputs": [
    {
     "data": {
      "text/plain": [
       "[]"
      ]
     },
     "execution_count": 17,
     "metadata": {},
     "output_type": "execute_result"
    }
   ],
   "source": [
    "def concatExcept_indexValue(w,arr):\n",
    "    result = \"\"\n",
    "    for w1 in arr:\n",
    "        if w != w1:\n",
    "            result += w1\n",
    "    return result\n",
    "def stringMatching(words):\n",
    "    \"\"\"\n",
    "    :type words: List[str]        \n",
    "    :rtype: List[str]\n",
    "    \"\"\"\n",
    "    result = []\n",
    "    hashDict = {}\n",
    "    for w in words:\n",
    "        hashDict[w] = concatExcept_indexValue(w,words)\n",
    "    for key,value in hashDict.items():\n",
    "        if key in value:\n",
    "            result.append(key)\n",
    "    return result\n",
    "# words = [\"mass\",\"as\",\"hero\",\"superhero\"]\n",
    "# words = [\"leetcode\",\"et\",\"code\"]\n",
    "words = [\"blue\",\"green\",\"bu\"]\n",
    "stringMatching(words)"
   ]
  },
  {
   "cell_type": "code",
   "execution_count": null,
   "metadata": {},
   "outputs": [],
   "source": [
    "def stringMatching(words):\n",
    "    arr = ' '.join(words)\n",
    "    subStr = [i for i in words if arr.count(i) >= 2]\n",
    "\n",
    "    return subStr"
   ]
  }
 ],
 "metadata": {
  "kernelspec": {
   "display_name": "Python 3",
   "language": "python",
   "name": "python3"
  },
  "language_info": {
   "codemirror_mode": {
    "name": "ipython",
    "version": 3
   },
   "file_extension": ".py",
   "mimetype": "text/x-python",
   "name": "python",
   "nbconvert_exporter": "python",
   "pygments_lexer": "ipython3",
   "version": "3.6.9"
  }
 },
 "nbformat": 4,
 "nbformat_minor": 2
}
