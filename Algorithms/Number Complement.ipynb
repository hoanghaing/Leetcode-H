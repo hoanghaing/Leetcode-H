{
 "cells": [
  {
   "cell_type": "code",
   "execution_count": 11,
   "metadata": {},
   "outputs": [
    {
     "data": {
      "text/plain": [
       "2"
      ]
     },
     "execution_count": 11,
     "metadata": {},
     "output_type": "execute_result"
    }
   ],
   "source": [
    "def findComplement(num):\n",
    "    \"\"\"\n",
    "    :type num: int\n",
    "    :rtype: int\n",
    "    \"\"\"\n",
    "    if num == 0:\n",
    "        return 1\n",
    "    if num == 1:\n",
    "        return 0\n",
    "    binum = bin(num)[2:]\n",
    "    reversebinum = \"\"\n",
    "    for c in binum:\n",
    "        reversebinum += str(-int(c) + 1)\n",
    "    return int(reversebinum,2)\n",
    "findComplement(5)"
   ]
  },
  {
   "cell_type": "code",
   "execution_count": 13,
   "metadata": {},
   "outputs": [
    {
     "data": {
      "text/plain": [
       "2"
      ]
     },
     "execution_count": 13,
     "metadata": {},
     "output_type": "execute_result"
    }
   ],
   "source": [
    "def findComplement(num):\n",
    "    if num == 0:\n",
    "        return 1\n",
    "    if num == 1:\n",
    "        return 0\n",
    "    i = 1\n",
    "    while i <= num:\n",
    "        i = i << 1\n",
    "    return (i - 1) ^ num\n",
    "findComplement(5)"
   ]
  }
 ],
 "metadata": {
  "kernelspec": {
   "display_name": "Python 3",
   "language": "python",
   "name": "python3"
  },
  "language_info": {
   "codemirror_mode": {
    "name": "ipython",
    "version": 3
   },
   "file_extension": ".py",
   "mimetype": "text/x-python",
   "name": "python",
   "nbconvert_exporter": "python",
   "pygments_lexer": "ipython3",
   "version": "3.6.9"
  }
 },
 "nbformat": 4,
 "nbformat_minor": 2
}
