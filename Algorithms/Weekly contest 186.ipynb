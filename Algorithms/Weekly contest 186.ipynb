{
 "cells": [
  {
   "cell_type": "code",
   "execution_count": 1,
   "metadata": {},
   "outputs": [
    {
     "data": {
      "text/plain": [
       "'\\nInput: s = \"011101\"\\nOutput: 5 \\nExplanation: \\nAll possible ways of splitting s into two non-empty substrings are:\\nleft = \"0\" and right = \"11101\", score = 1 + 4 = 5 \\nleft = \"01\" and right = \"1101\", score = 1 + 3 = 4 \\nleft = \"011\" and right = \"101\", score = 1 + 2 = 3 \\nleft = \"0111\" and right = \"01\", score = 1 + 1 = 2 \\nleft = \"01110\" and right = \"1\", score = 2 + 1 = 3\\n'"
      ]
     },
     "execution_count": 1,
     "metadata": {},
     "output_type": "execute_result"
    }
   ],
   "source": [
    "# 5392. Maximum Score After Splitting a String\n",
    "\"\"\"\n",
    "Given a string s of zeros and ones, return the maximum score after splitting the string into two non-empty \n",
    "substrings (i.e. left substring and right substring).\n",
    "The score after splitting a string is the number of zeros in the left substring plus the number of ones\n",
    "in the right substring\n",
    "\"\"\"\n",
    "\"\"\"\n",
    "Input: s = \"011101\"\n",
    "Output: 5 \n",
    "Explanation: \n",
    "All possible ways of splitting s into two non-empty substrings are:\n",
    "left = \"0\" and right = \"11101\", score = 1 + 4 = 5 \n",
    "left = \"01\" and right = \"1101\", score = 1 + 3 = 4 \n",
    "left = \"011\" and right = \"101\", score = 1 + 2 = 3 \n",
    "left = \"0111\" and right = \"01\", score = 1 + 1 = 2 \n",
    "left = \"01110\" and right = \"1\", score = 2 + 1 = 3\n",
    "\"\"\""
   ]
  },
  {
   "cell_type": "code",
   "execution_count": 29,
   "metadata": {},
   "outputs": [
    {
     "data": {
      "text/plain": [
       "5"
      ]
     },
     "execution_count": 29,
     "metadata": {},
     "output_type": "execute_result"
    }
   ],
   "source": [
    "def handle(s):\n",
    "        L2Rcount0 =[0] * len(s)\n",
    "        R2Lcount1 = [0] * len(s)\n",
    "        for i in range(len(s)):\n",
    "            if s[i] == '0':\n",
    "                L2Rcount0[i] = L2Rcount0[i-1] + 1\n",
    "            else:\n",
    "                L2Rcount0[i] = L2Rcount0[i-1]\n",
    "\n",
    "        reverseS = s[::-1]\n",
    "        for i in range(len(R2Lcount1)):\n",
    "            if reverseS[i] == '1':\n",
    "                R2Lcount1[i] = R2Lcount1[i-1] + 1\n",
    "            else:\n",
    "                R2Lcount1[i] = R2Lcount1[i-1]\n",
    "        R2Lcount1 = R2Lcount1[::-1]\n",
    "        R2Lcount1.pop(0)\n",
    "        R2Lcount1 += [0]\n",
    "        result = [a+b for a,b in zip(L2Rcount0,R2Lcount1)]\n",
    "        if max(R2Lcount1) == 0 or max(L2Rcount0) == 0:\n",
    "            return len(s) - 1\n",
    "        return max(result)\n",
    "=> False \"0100\""
   ]
  },
  {
   "cell_type": "code",
   "execution_count": 40,
   "metadata": {},
   "outputs": [
    {
     "data": {
      "text/plain": [
       "3"
      ]
     },
     "execution_count": 40,
     "metadata": {},
     "output_type": "execute_result"
    }
   ],
   "source": [
    "def l2s(s):\n",
    "    return [int(i) for i in s]\n",
    "def handle(s):\n",
    "    L2R = [0] * len(s)\n",
    "    for i in range(len(s)):\n",
    "        if s[i] == '0':\n",
    "            L2R[i] = L2R[i-1] + 1\n",
    "        else:\n",
    "            L2R[i] = L2R[i-1]\n",
    "    for i in range(len(s)):\n",
    "        L2R[i] += sum(l2s(s[i+1:len(s)]))\n",
    "    return max(L2R[:-1])\n",
    "handle(\"1111\")\n",
    "# l2s(\"0100\")"
   ]
  },
  {
   "cell_type": "code",
   "execution_count": null,
   "metadata": {},
   "outputs": [],
   "source": [
    "# 5393. Maximum Points You Can Obtain from Cards\n",
    "\"\"\"\n",
    "There are several cards arranged in a row, and each card has an associated number of points\n",
    "The points are given in the integer array cardPoints.\n",
    "In one step, you can take one card from the beginning or from the end of the row. \n",
    "You have to take exactly k cards.\n",
    "Your score is the sum of the points of the cards you have taken.\n",
    "Given the integer array cardPoints and the integer k, return the maximum score you can obtain.\n",
    "\"\"\""
   ]
  },
  {
   "cell_type": "code",
   "execution_count": null,
   "metadata": {},
   "outputs": [],
   "source": [
    "Example 1:\n",
    "\n",
    "Input: cardPoints = [1,2,3,4,5,6,1], k = 3\n",
    "Output: 12\n",
    "Explanation: After the first step, your score will always be 1. \n",
    "However, choosing the rightmost card first will maximize your total score. \n",
    "The optimal strategy is to take the three cards on the right, giving a final score of 1 + 6 + 5 = 12."
   ]
  },
  {
   "cell_type": "code",
   "execution_count": null,
   "metadata": {},
   "outputs": [],
   "source": [
    "Example 2:\n",
    "\n",
    "Input: cardPoints = [2,2,2], k = 2\n",
    "Output: 4\n",
    "Explanation: Regardless of which two cards you take, your score will always be 4."
   ]
  },
  {
   "cell_type": "code",
   "execution_count": null,
   "metadata": {},
   "outputs": [],
   "source": [
    "Example 3:\n",
    "\n",
    "Input: cardPoints = [9,7,7,9,7,7,9], k = 7\n",
    "Output: 55\n",
    "Explanation: You have to take all the cards. Your score is the sum of points of all cards."
   ]
  },
  {
   "cell_type": "code",
   "execution_count": null,
   "metadata": {},
   "outputs": [],
   "source": [
    "Example 4:\n",
    "\n",
    "Input: cardPoints = [1,1000,1], k = 1\n",
    "Output: 1\n",
    "Explanation: You cannot take the card in the middle. Your best score is 1. "
   ]
  },
  {
   "cell_type": "code",
   "execution_count": null,
   "metadata": {},
   "outputs": [],
   "source": [
    "Example 5:\n",
    "\n",
    "Input: cardPoints = [1,79,80,1,1,1,200,1], k = 3\n",
    "Output: 202\n"
   ]
  },
  {
   "cell_type": "code",
   "execution_count": 48,
   "metadata": {},
   "outputs": [
    {
     "name": "stdout",
     "output_type": "stream",
     "text": [
      "1\n",
      "[2, 3, 4, 5, 6, 1]\n",
      "3\n",
      "[3, 4, 5, 6, 1]\n",
      "6\n",
      "[4, 5, 6, 1]\n"
     ]
    },
    {
     "data": {
      "text/plain": [
       "6"
      ]
     },
     "execution_count": 48,
     "metadata": {},
     "output_type": "execute_result"
    }
   ],
   "source": [
    "def maxScore(cardPoints, k):\n",
    "    \"\"\"\n",
    "    :type cardPoints: List[int]\n",
    "    :type k: int\n",
    "    :rtype: int\n",
    "    \"\"\"\n",
    "    sumCards = 0\n",
    "    while(k>0):\n",
    "        if cardPoints[0] >= cardPoints[len(cardPoints)-1]:\n",
    "            sumCards += cardPoints[0]\n",
    "            cardPoints.pop(0)\n",
    "        else:\n",
    "            sumCards += cardPoints[len(cardPoints)-1]\n",
    "            cardPoints.pop(len(cardPoints)-1)\n",
    "        print(sumCards)\n",
    "        print(cardPoints)\n",
    "        k-=1\n",
    "    return sumCards\n",
    "cardPoints = [1,2,3,4,5,6,1]\n",
    "k = 3\n",
    "maxScore(cardPoints, k)\n",
    "# False"
   ]
  },
  {
   "cell_type": "code",
   "execution_count": 51,
   "metadata": {},
   "outputs": [
    {
     "data": {
      "text/plain": [
       "([1, 2, 3], [1, 6, 5])"
      ]
     },
     "execution_count": 51,
     "metadata": {},
     "output_type": "execute_result"
    }
   ],
   "source": [
    "def maxScore(cardPoints, k):\n",
    "    LC = cardPoints[:k]\n",
    "    RC = cardPoints[-k:][::-1]\n",
    "    return LC,RC\n",
    "maxScore([1,2,3,4,5,6,1],3)"
   ]
  }
 ],
 "metadata": {
  "kernelspec": {
   "display_name": "Python 3",
   "language": "python",
   "name": "python3"
  },
  "language_info": {
   "codemirror_mode": {
    "name": "ipython",
    "version": 3
   },
   "file_extension": ".py",
   "mimetype": "text/x-python",
   "name": "python",
   "nbconvert_exporter": "python",
   "pygments_lexer": "ipython3",
   "version": "3.6.9"
  }
 },
 "nbformat": 4,
 "nbformat_minor": 2
}
